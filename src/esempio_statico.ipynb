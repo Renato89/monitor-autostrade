{
 "cells": [
  {
   "cell_type": "code",
   "execution_count": 1,
   "metadata": {},
   "outputs": [
    {
     "name": "stderr",
     "output_type": "stream",
     "text": [
      "Setting default log level to \"WARN\".\n",
      "To adjust logging level use sc.setLogLevel(newLevel). For SparkR, use setLogLevel(newLevel).\n"
     ]
    },
    {
     "name": "stdout",
     "output_type": "stream",
     "text": [
      "22/12/04 17:48:57 WARN NativeCodeLoader: Unable to load native-hadoop library for your platform... using builtin-java classes where applicable\n"
     ]
    }
   ],
   "source": [
    "import pyspark\n",
    "from pyspark.sql import SparkSession\n",
    "from pyspark.sql.types import StructType,StructField, StringType, IntegerType \n",
    "from pyspark.sql.types import ArrayType, DoubleType, BooleanType\n",
    "from pyspark.sql.functions import (\n",
    "    concat,\n",
    "    count,\n",
    "    col,\n",
    "    from_csv,\n",
    "    lit,\n",
    "    count,\n",
    "    max,\n",
    "    first,\n",
    "    struct,\n",
    "    first,\n",
    "    last,\n",
    "    unix_timestamp,\n",
    "    avg\n",
    ")\n",
    "\n",
    "spark = SparkSession.builder.appName(\"EsempioStatico\").getOrCreate()"
   ]
  },
  {
   "cell_type": "code",
   "execution_count": 3,
   "metadata": {},
   "outputs": [
    {
     "name": "stdout",
     "output_type": "stream",
     "text": [
      "root\n",
      " |-- targa: integer (nullable = true)\n",
      " |-- varco: integer (nullable = true)\n",
      " |-- corsia: double (nullable = true)\n",
      " |-- timestamp: timestamp (nullable = true)\n",
      " |-- nazione: string (nullable = true)\n",
      "\n",
      "+-------+-----+------+-------------------+-------+\n",
      "|  targa|varco|corsia|          timestamp|nazione|\n",
      "+-------+-----+------+-------------------+-------+\n",
      "|  32540|   27|   1.0|2022-12-04 00:00:04|      ?|\n",
      "|1773531|    8|   1.0|2022-12-04 00:00:05|      I|\n",
      "|2699969|   21|   1.0|2022-12-04 00:00:05|      I|\n",
      "|  76105|   27|   1.0|2022-12-04 00:00:06|      I|\n",
      "| 237933|   12|   1.0|2022-12-04 00:00:08|    SLO|\n",
      "| 440737|   21|   2.0|2022-12-04 00:00:08|      I|\n",
      "|9466795|    9|   2.0|2022-12-04 00:00:08|      I|\n",
      "|1345761|    5|   1.0|2022-12-04 00:00:08|      I|\n",
      "|5822211|    8|   1.0|2022-12-04 00:00:10|      ?|\n",
      "|7150472|    4|   1.0|2022-12-04 00:00:11|      ?|\n",
      "| 340490|    8|   1.0|2022-12-04 00:00:12|      I|\n",
      "|7456605|   19|   1.0|2022-12-04 00:00:14|      ?|\n",
      "| 215748|    5|   1.0|2022-12-04 00:00:16|      I|\n",
      "|7215046|    8|   1.0|2022-12-04 00:00:17|      I|\n",
      "|2165892|   14|   1.0|2022-12-04 00:00:23|      I|\n",
      "| 552559|   27|   1.0|2022-12-04 00:00:25|      ?|\n",
      "| 103967|    1|   1.0|2022-12-04 00:00:26|      ?|\n",
      "|6840365|   10|   1.0|2022-12-04 00:00:28|      I|\n",
      "|4593426|   16|   2.0|2022-12-04 00:00:28|     RO|\n",
      "| 143029|   25|   1.0|2022-12-04 00:00:30|      I|\n",
      "+-------+-----+------+-------------------+-------+\n",
      "only showing top 20 rows\n",
      "\n"
     ]
    },
    {
     "name": "stderr",
     "output_type": "stream",
     "text": [
      "                                                                                \r"
     ]
    }
   ],
   "source": [
    "options = {\"sep\": \",\"}\n",
    "schema = \"targa INT, varco INT, corsia DOUBLE, timestamp TIMESTAMP, nazione STRING\"\n",
    "\n",
    "df = spark.read.option(\"header\",True) \\\n",
    "    .schema(schema) \\\n",
    "    .csv(\"../data/feb2016/01.02.2016_cleaned.csv\")\n",
    "\n",
    "df.printSchema()\n",
    "df.show()"
   ]
  },
  {
   "cell_type": "code",
   "execution_count": 4,
   "metadata": {},
   "outputs": [
    {
     "name": "stderr",
     "output_type": "stream",
     "text": [
      "[Stage 1:>                                                          (0 + 1) / 1]\r"
     ]
    },
    {
     "name": "stdout",
     "output_type": "stream",
     "text": [
      "+--------+------+---------+\n",
      "|ingresso|uscita|lunghezza|\n",
      "+--------+------+---------+\n",
      "|      27|     9|     8.48|\n",
      "|       9|    26|    17.42|\n",
      "|      26|    10|      6.0|\n",
      "|      10|    18|     12.3|\n",
      "|      18|    23|     14.0|\n",
      "|      23|    15|     17.6|\n",
      "|      15|     5|      7.7|\n",
      "|       5|     8|     10.9|\n",
      "|       8|     3|      6.9|\n",
      "|       3|    13|      9.8|\n",
      "|      22|     1|     10.6|\n",
      "|       1|    12|     10.9|\n",
      "|      12|    25|      7.7|\n",
      "|      25|    20|     17.7|\n",
      "|      20|     2|     13.8|\n",
      "|       2|    16|     14.1|\n",
      "|      16|     4|     14.0|\n",
      "|       4|    21|     25.7|\n",
      "+--------+------+---------+\n",
      "\n"
     ]
    },
    {
     "name": "stderr",
     "output_type": "stream",
     "text": [
      "                                                                                \r"
     ]
    }
   ],
   "source": [
    "# Immette i tratti autostradali\n",
    "tratti = [\n",
    "    (27, 9, 8.48),\n",
    "    (9, 26, 17.42),\n",
    "    (26, 10, 6.0),\n",
    "    (10, 18, 12.3),\n",
    "    (18, 23, 14.0),\n",
    "    (23, 15, 17.6),\n",
    "    (15, 5, 7.7),\n",
    "    (5, 8, 10.9),\n",
    "    (8, 3, 6.9),\n",
    "    (3, 13, 9.8),\n",
    "    (22, 1, 10.6),\n",
    "    (1, 12, 10.9),\n",
    "    (12, 25, 7.7),\n",
    "    (25, 20, 17.7),\n",
    "    (20, 2, 13.8),\n",
    "    (2, 16, 14.1),\n",
    "    (16, 4, 14.0),\n",
    "    (4, 21, 25.7),\n",
    "]\n",
    "\n",
    "tratti_schema = StructType(\n",
    "    [\n",
    "        StructField(\"ingresso\", IntegerType()),\n",
    "        StructField(\"uscita\", IntegerType()),\n",
    "        StructField(\"lunghezza\", DoubleType())\n",
    "    ]\n",
    ")\n",
    "\n",
    "df_tratti = spark.createDataFrame(data=tratti, schema=tratti_schema).cache()\n",
    "df_tratti.show()"
   ]
  },
  {
   "cell_type": "code",
   "execution_count": 5,
   "metadata": {},
   "outputs": [
    {
     "name": "stdout",
     "output_type": "stream",
     "text": [
      "+-------+-----+------+-------------------+-------+--------+------+---------+\n",
      "|  targa|varco|corsia|          timestamp|nazione|ingresso|uscita|lunghezza|\n",
      "+-------+-----+------+-------------------+-------+--------+------+---------+\n",
      "|  32540|   27|   1.0|2022-12-04 00:00:04|      ?|      27|     9|     8.48|\n",
      "|1773531|    8|   1.0|2022-12-04 00:00:05|      I|       5|     8|     10.9|\n",
      "|1773531|    8|   1.0|2022-12-04 00:00:05|      I|       8|     3|      6.9|\n",
      "|2699969|   21|   1.0|2022-12-04 00:00:05|      I|       4|    21|     25.7|\n",
      "|  76105|   27|   1.0|2022-12-04 00:00:06|      I|      27|     9|     8.48|\n",
      "| 237933|   12|   1.0|2022-12-04 00:00:08|    SLO|       1|    12|     10.9|\n",
      "| 237933|   12|   1.0|2022-12-04 00:00:08|    SLO|      12|    25|      7.7|\n",
      "| 440737|   21|   2.0|2022-12-04 00:00:08|      I|       4|    21|     25.7|\n",
      "|9466795|    9|   2.0|2022-12-04 00:00:08|      I|      27|     9|     8.48|\n",
      "|9466795|    9|   2.0|2022-12-04 00:00:08|      I|       9|    26|    17.42|\n",
      "|1345761|    5|   1.0|2022-12-04 00:00:08|      I|      15|     5|      7.7|\n",
      "|1345761|    5|   1.0|2022-12-04 00:00:08|      I|       5|     8|     10.9|\n",
      "|5822211|    8|   1.0|2022-12-04 00:00:10|      ?|       5|     8|     10.9|\n",
      "|5822211|    8|   1.0|2022-12-04 00:00:10|      ?|       8|     3|      6.9|\n",
      "|7150472|    4|   1.0|2022-12-04 00:00:11|      ?|      16|     4|     14.0|\n",
      "|7150472|    4|   1.0|2022-12-04 00:00:11|      ?|       4|    21|     25.7|\n",
      "| 340490|    8|   1.0|2022-12-04 00:00:12|      I|       5|     8|     10.9|\n",
      "| 340490|    8|   1.0|2022-12-04 00:00:12|      I|       8|     3|      6.9|\n",
      "|7456605|   19|   1.0|2022-12-04 00:00:14|      ?|    null|  null|     null|\n",
      "| 215748|    5|   1.0|2022-12-04 00:00:16|      I|      15|     5|      7.7|\n",
      "+-------+-----+------+-------------------+-------+--------+------+---------+\n",
      "only showing top 20 rows\n",
      "\n"
     ]
    }
   ],
   "source": [
    "df_left = df.join(df_tratti, (df.varco == df_tratti.ingresso ) | (df.varco == df_tratti.uscita), 'left')\n",
    "df_left.show()"
   ]
  },
  {
   "cell_type": "code",
   "execution_count": 6,
   "metadata": {},
   "outputs": [
    {
     "name": "stderr",
     "output_type": "stream",
     "text": [
      "[Stage 6:===================>                                       (1 + 2) / 3]\r"
     ]
    },
    {
     "name": "stdout",
     "output_type": "stream",
     "text": [
      "+-------+--------+------+-------------------+-------------------+------------+\n",
      "|  targa|ingresso|uscita|           partenza|             arrivo|avvistamenti|\n",
      "+-------+--------+------+-------------------+-------------------+------------+\n",
      "| 719308|       1|    12|2022-12-04 00:06:02|2022-12-04 00:06:02|           1|\n",
      "|3968376|      27|     9|2022-12-04 00:14:12|2022-12-04 00:14:12|           1|\n",
      "| 220738|       8|     3|2022-12-04 00:20:03|2022-12-04 00:23:37|           2|\n",
      "|9462689|      27|     9|2022-12-04 00:33:49|2022-12-04 00:33:49|           1|\n",
      "|6718473|      20|     2|2022-12-04 00:41:07|2022-12-04 00:41:07|           1|\n",
      "|1592738|      22|     1|2022-12-04 00:55:14|2022-12-04 00:55:14|           1|\n",
      "| 498262|      15|     5|2022-12-04 01:03:40|2022-12-04 01:08:56|           2|\n",
      "|9475144|      16|     4|2022-12-04 01:19:44|2022-12-04 01:19:44|           1|\n",
      "| 142913|      26|    10|2022-12-04 01:20:44|2022-12-04 06:31:16|           3|\n",
      "|6127187|      26|    10|2022-12-04 01:22:49|2022-12-04 01:22:49|           1|\n",
      "|2289225|      15|     5|2022-12-04 01:27:41|2022-12-04 01:32:49|           2|\n",
      "|  76146|      22|     1|2022-12-04 01:27:42|2022-12-04 01:27:42|           1|\n",
      "| 219698|      27|     9|2022-12-04 01:29:20|2022-12-04 01:29:20|           1|\n",
      "|  71939|      12|    25|2022-12-04 01:39:16|2022-12-04 12:03:42|           3|\n",
      "|7463688|       9|    26|2022-12-04 01:39:46|2022-12-04 01:39:46|           1|\n",
      "|6693163|      22|     1|2022-12-04 01:39:51|2022-12-04 01:47:43|           2|\n",
      "| 521489|       9|    26|2022-12-04 01:43:07|2022-12-04 01:53:07|           2|\n",
      "|9470041|      10|    18|2022-12-04 02:11:39|2022-12-04 02:11:39|           1|\n",
      "|6567884|       9|    26|2022-12-04 02:11:45|2022-12-04 02:11:45|           1|\n",
      "|9467914|      15|     5|2022-12-04 02:12:41|2022-12-04 02:16:05|           2|\n",
      "+-------+--------+------+-------------------+-------------------+------------+\n",
      "only showing top 20 rows\n",
      "\n"
     ]
    },
    {
     "name": "stderr",
     "output_type": "stream",
     "text": [
      "                                                                                \r"
     ]
    }
   ],
   "source": [
    "df_aggregated = df_left.groupBy(['targa', 'ingresso', 'uscita']) \\\n",
    "    .agg(\n",
    "        first('timestamp').alias('partenza'), \n",
    "        last('timestamp').alias('arrivo'),\n",
    "        count('timestamp').alias('avvistamenti')\n",
    "    )\n",
    "df_aggregated.show()"
   ]
  },
  {
   "cell_type": "markdown",
   "metadata": {},
   "source": [
    "Dopo questa aggregazione si possono ramificare processi diversi, ad esempio per ottenere il numero di targhe per tratto si può raggruppare per tratto (ingresso, uscita) ed eseguire il ``count()``. \n",
    "\n",
    "Invece, per ottenere la velocità della targa, su un tratto si rifà il join con la tabella tratti per avere anche la distanza, e si crea una nuova colonna che calcola: ``lunghezza / (arrivo - partenza)``. Da qui, se si vuole l'ultimo tratto di una targa: \n",
    "1. raggruppa per targa\n",
    "2. ordina per timestamp\n",
    "3. aggrega per ultima riga, ``last()``\n",
    "\n",
    "Oppure si calcola la velocità media della targa:\n",
    "1. raggruppa per targa\n",
    "2. aggrega con ``avg()``\n",
    "\n",
    "In tutti i casi, bisogna prima filtrare via le righe con ``avvistamenti = 2``. Questo perché le righe con ``avvistamenti = 1`` rappresentano tutte quelle targhe che sono state avvistate solo ad un varco e non al successivo, perché magari sono uscite o il sensore non le ha rilevate correttamente."
   ]
  },
  {
   "cell_type": "markdown",
   "metadata": {},
   "source": [
    " ## Velocità ultimo avvistamento per targa"
   ]
  },
  {
   "cell_type": "code",
   "execution_count": 7,
   "metadata": {},
   "outputs": [
    {
     "name": "stderr",
     "output_type": "stream",
     "text": [
      "[Stage 18:==============>                                           (1 + 3) / 4]\r"
     ]
    },
    {
     "name": "stdout",
     "output_type": "stream",
     "text": [
      "+-------+-------------------+--------+------+------------------+\n",
      "|  targa|          timestamp|ingresso|uscita|          velocità|\n",
      "+-------+-------------------+--------+------+------------------+\n",
      "| 141533|2022-12-04 00:49:27|      16|     4| 85.13513513513514|\n",
      "|1947770|2022-12-04 00:30:49|      15|     5| 93.96610169491527|\n",
      "|6705015|2022-12-04 01:05:00|       3|    13| 84.40191387559808|\n",
      "| 102524|2022-12-04 12:32:06|       5|     8| 81.24223602484471|\n",
      "| 398172|2022-12-04 02:49:48|      16|     4| 91.97080291970804|\n",
      "|1470487|2022-12-04 04:43:27|      20|     2| 87.15789473684211|\n",
      "| 143032|2022-12-04 05:00:03|      16|     4|51.533742331288344|\n",
      "| 124798|2022-12-04 11:39:52|      12|    25| 82.74626865671642|\n",
      "| 454087|2022-12-04 06:47:59|      16|     4| 83.72093023255813|\n",
      "|  74281|2022-12-04 05:41:21|      16|     4|121.44578313253012|\n",
      "| 324221|2022-12-04 14:15:32|    null|  null|              null|\n",
      "|9351109|2022-12-04 06:37:33|      16|     4|132.63157894736844|\n",
      "|  62680|2022-12-04 20:01:17|      20|     2|120.00000000000001|\n",
      "|  74166|2022-12-04 06:54:26|       5|     8| 39.91861648016277|\n",
      "|  53565|2022-12-04 19:38:11|    null|  null|              null|\n",
      "|  46521|2022-12-04 11:11:52|    null|  null|              null|\n",
      "|5553026|2022-12-04 18:06:41|      16|     4| 107.6923076923077|\n",
      "|  78478|2022-12-04 06:49:10|      27|     9| 128.2689075630252|\n",
      "|6968171|2022-12-04 07:39:05|       3|    13|108.22085889570552|\n",
      "|  70863|2022-12-04 11:50:56|      15|     5|146.66666666666666|\n",
      "+-------+-------------------+--------+------+------------------+\n",
      "only showing top 20 rows\n",
      "\n"
     ]
    },
    {
     "name": "stderr",
     "output_type": "stream",
     "text": [
      "                                                                                \r"
     ]
    }
   ],
   "source": [
    "df_speed = df_aggregated \\\n",
    "     .join(df_tratti, (df_aggregated.ingresso == df_tratti.ingresso ), 'left') \\\n",
    "     .filter(col('avvistamenti') == 2) \\\n",
    "     .orderBy('partenza') \\\n",
    "     .groupBy(df_aggregated.targa) \\\n",
    "     .agg(\n",
    "          last('arrivo').alias('arrivo'),\n",
    "          last('partenza').alias('partenza'),\n",
    "          last('lunghezza').alias('lunghezza'),\n",
    "          last(df_aggregated.ingresso).alias('ingresso'),\n",
    "          last(df_aggregated.uscita).alias('uscita')\n",
    "     ) \\\n",
    "     .withColumn('velocità', \\\n",
    "     ( (col('lunghezza') * 1000) / (unix_timestamp(col('arrivo')) - unix_timestamp(col('partenza')))) * 3.6) \\\n",
    "     .select('targa', col('arrivo').alias('timestamp'), 'ingresso', 'uscita', 'velocità')\n",
    "\n",
    "df_speed.show()"
   ]
  },
  {
   "cell_type": "markdown",
   "metadata": {},
   "source": [
    "## Velocità media per targa"
   ]
  },
  {
   "cell_type": "code",
   "execution_count": 8,
   "metadata": {},
   "outputs": [
    {
     "name": "stderr",
     "output_type": "stream",
     "text": [
      "                                                                                \r"
     ]
    },
    {
     "name": "stdout",
     "output_type": "stream",
     "text": [
      "+-------+--------+------+------------------+\n",
      "|  targa|ingresso|uscita|    velocità_media|\n",
      "+-------+--------+------+------------------+\n",
      "| 141533|      16|     4| 84.58990955498268|\n",
      "|1947770|      15|     5| 93.96610169491527|\n",
      "|6705015|       3|    13| 84.40191387559808|\n",
      "| 102524|       5|     8| 88.16365596057877|\n",
      "| 398172|      16|     4| 89.65646316425875|\n",
      "|1470487|      20|     2| 87.15789473684211|\n",
      "| 143032|      16|     4|51.533742331288344|\n",
      "| 124798|      12|    25| 18.18212215174512|\n",
      "| 454087|      16|     4| 74.31246317992183|\n",
      "|  74281|      16|     4|126.30428691510228|\n",
      "| 324221|    null|  null|              null|\n",
      "|9351109|      16|     4|127.85105619065044|\n",
      "|  62680|      20|     2|114.22453704228623|\n",
      "|  74166|       5|     8| 69.99540932311388|\n",
      "|  53565|    null|  null|              null|\n",
      "|  46521|    null|  null|              null|\n",
      "|5553026|      16|     4| 94.03417246067781|\n",
      "|  78478|      27|     9| 128.2689075630252|\n",
      "|6968171|       3|    13|119.48556545325174|\n",
      "|  70863|      15|     5|   135.15553527926|\n",
      "+-------+--------+------+------------------+\n",
      "only showing top 20 rows\n",
      "\n"
     ]
    }
   ],
   "source": [
    "df_average = df_aggregated \\\n",
    "    .join(df_tratti, (df_aggregated.ingresso == df_tratti.ingresso ), 'left') \\\n",
    "    .filter(col('avvistamenti') == 2) \\\n",
    "    .orderBy('partenza') \\\n",
    "    .withColumn('velocità', \\\n",
    "    ( (col('lunghezza') * 1000) / (unix_timestamp(col('arrivo')) - unix_timestamp(col('partenza')))) * 3.6) \\\n",
    "    .groupBy('targa') \\\n",
    "    .agg(\n",
    "        last(df_aggregated.ingresso).alias('ingresso'),\n",
    "        last(df_aggregated.uscita).alias('uscita'),\n",
    "        avg('velocità').alias('velocità_media')\n",
    "    ) \\\n",
    "    .select('targa', 'ingresso', 'uscita', 'velocità_media')\n",
    "\n",
    "df_average.show()"
   ]
  },
  {
   "cell_type": "markdown",
   "metadata": {},
   "source": [
    "## Conteggio targhe per tratto\n",
    "\n",
    "Ha bisogno di altre due aggregazioni: una per ottenere solo una targa (come in velocità puntutale) e l'altra raggruppando per tratto."
   ]
  },
  {
   "cell_type": "code",
   "execution_count": 9,
   "metadata": {},
   "outputs": [
    {
     "name": "stderr",
     "output_type": "stream",
     "text": [
      "                                                                                \r"
     ]
    },
    {
     "name": "stdout",
     "output_type": "stream",
     "text": [
      "+--------+------+---------+\n",
      "|ingresso|uscita|conteggio|\n",
      "+--------+------+---------+\n",
      "|      27|     9|     2061|\n",
      "|       8|     3|     2030|\n",
      "|       3|    13|     5068|\n",
      "|      20|     2|     1860|\n",
      "|      10|    18|     1785|\n",
      "|      23|    15|      490|\n",
      "|      15|     5|     3691|\n",
      "|    null|  null|     8331|\n",
      "|      16|     4|     7055|\n",
      "|       9|    26|      680|\n",
      "|      25|    20|     1256|\n",
      "|       4|    21|     3342|\n",
      "|      12|    25|      842|\n",
      "|       5|     8|     1568|\n",
      "|      26|    10|      959|\n",
      "|       1|    12|     2962|\n",
      "|      18|    23|      441|\n",
      "|      22|     1|      518|\n",
      "|       2|    16|     1067|\n",
      "+--------+------+---------+\n",
      "\n"
     ]
    }
   ],
   "source": [
    "df_single = df_aggregated \\\n",
    "     .join(df_tratti, (df_aggregated.ingresso == df_tratti.ingresso ), 'left') \\\n",
    "     .filter(col('avvistamenti') == 2) \\\n",
    "     .orderBy('partenza') \\\n",
    "     .groupBy(df_aggregated.targa) \\\n",
    "     .agg(\n",
    "          last(df_aggregated.ingresso).alias('ingresso'),\n",
    "          last(df_aggregated.uscita).alias('uscita')\n",
    "     ) \n",
    "    \n",
    "\n",
    "df_count = df_single \\\n",
    "     .groupBy('ingresso', 'uscita') \\\n",
    "     .agg(count('targa').alias('conteggio')) \n",
    "\n",
    "df_count.show()"
   ]
  },
  {
   "cell_type": "markdown",
   "metadata": {},
   "source": [
    "Il conteggio deve essere fatto su una finestra temporale."
   ]
  }
 ],
 "metadata": {
  "kernelspec": {
   "display_name": "Python 3.7.10 64-bit",
   "language": "python",
   "name": "python3"
  },
  "language_info": {
   "codemirror_mode": {
    "name": "ipython",
    "version": 3
   },
   "file_extension": ".py",
   "mimetype": "text/x-python",
   "name": "python",
   "nbconvert_exporter": "python",
   "pygments_lexer": "ipython3",
   "version": "3.7.10"
  },
  "orig_nbformat": 4,
  "vscode": {
   "interpreter": {
    "hash": "916dbcbb3f70747c44a77c7bcd40155683ae19c65e1c03b4aa3499c5328201f1"
   }
  }
 },
 "nbformat": 4,
 "nbformat_minor": 2
}
