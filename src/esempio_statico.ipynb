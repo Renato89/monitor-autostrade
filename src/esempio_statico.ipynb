{
 "cells": [
  {
   "cell_type": "code",
   "execution_count": 34,
   "metadata": {},
   "outputs": [],
   "source": [
    "import pyspark\n",
    "from pyspark.sql import SparkSession\n",
    "from pyspark.sql.types import StructType,StructField, StringType, IntegerType \n",
    "from pyspark.sql.types import ArrayType, DoubleType, BooleanType\n",
    "from pyspark.sql.functions import (\n",
    "    concat,\n",
    "    count,\n",
    "    col,\n",
    "    from_csv,\n",
    "    lit,\n",
    "    count,\n",
    "    max,\n",
    "    first,\n",
    "    struct,\n",
    "    first,\n",
    "    last,\n",
    "    unix_timestamp,\n",
    "    avg\n",
    ")\n",
    "\n",
    "spark = SparkSession.builder.appName(\"EsempioStatico\").getOrCreate()"
   ]
  },
  {
   "cell_type": "code",
   "execution_count": 22,
   "metadata": {},
   "outputs": [
    {
     "name": "stdout",
     "output_type": "stream",
     "text": [
      "root\n",
      " |-- targa: integer (nullable = true)\n",
      " |-- varco: integer (nullable = true)\n",
      " |-- corsia: double (nullable = true)\n",
      " |-- timestamp: timestamp (nullable = true)\n",
      " |-- nazione: string (nullable = true)\n",
      "\n",
      "+-------+-----+------+-------------------+-------+\n",
      "|  targa|varco|corsia|          timestamp|nazione|\n",
      "+-------+-----+------+-------------------+-------+\n",
      "| 515364|   25|   2.0|2022-11-05 00:00:00|      I|\n",
      "| 199201|   27|   1.0|2022-11-05 00:00:01|      I|\n",
      "|3053187|    2|   1.0|2022-11-05 00:00:02|      H|\n",
      "|4156088|    2|   1.0|2022-11-05 00:00:03|     RO|\n",
      "| 515364|   20|   2.0|2022-11-05 00:00:30|      I|\n",
      "| 199201|    9|   1.0|2022-11-05 00:00:31|      I|\n",
      "|3053187|   16|   1.0|2022-11-05 00:00:32|      H|\n",
      "|4156088|   16|   1.0|2022-11-05 00:00:33|     RO|\n",
      "| 515364|    2|   2.0|2022-11-05 00:01:00|      I|\n",
      "| 199201|   26|   1.0|2022-11-05 00:01:01|      I|\n",
      "|3053187|    4|   1.0|2022-11-05 00:01:02|      H|\n",
      "|4156088|    4|   1.0|2022-11-05 00:01:03|     RO|\n",
      "| 515364|   16|   2.0|2022-11-05 00:01:30|      I|\n",
      "| 199201|   10|   1.0|2022-11-05 00:01:31|      I|\n",
      "|3053187|   21|   1.0|2022-11-05 00:01:32|      H|\n",
      "|4156088|   21|   1.0|2022-11-05 00:01:33|     RO|\n",
      "+-------+-----+------+-------------------+-------+\n",
      "\n"
     ]
    }
   ],
   "source": [
    "options = {\"sep\": \",\"}\n",
    "schema = \"targa INT, varco INT, corsia DOUBLE, timestamp TIMESTAMP, nazione STRING\"\n",
    "\n",
    "df = spark.read.option(\"header\",True) \\\n",
    "    .schema(schema) \\\n",
    "    .csv(\"test.csv\")\n",
    "\n",
    "df.printSchema()\n",
    "df.show()"
   ]
  },
  {
   "cell_type": "code",
   "execution_count": 3,
   "metadata": {},
   "outputs": [
    {
     "name": "stderr",
     "output_type": "stream",
     "text": [
      "                                                                                \r"
     ]
    },
    {
     "name": "stdout",
     "output_type": "stream",
     "text": [
      "+------+--------+------+---------+\n",
      "|tratto|ingresso|uscita|lunghezza|\n",
      "+------+--------+------+---------+\n",
      "|     1|      27|     9|     8.48|\n",
      "|     2|       9|    26|    17.42|\n",
      "|     3|      26|    10|      6.0|\n",
      "|     4|      10|    18|     12.3|\n",
      "|     5|      18|    23|     14.0|\n",
      "|     6|      23|    15|     17.6|\n",
      "|     7|      15|     5|      7.7|\n",
      "|     8|       5|     8|     10.9|\n",
      "|     9|       8|     3|      6.9|\n",
      "|    10|       3|    13|      9.8|\n",
      "|    11|      22|     1|     10.6|\n",
      "|    12|       1|    12|     10.9|\n",
      "|    13|      12|    25|      7.7|\n",
      "|    14|      25|    20|     17.7|\n",
      "|    15|      20|     2|     13.8|\n",
      "|    16|       2|    16|     14.1|\n",
      "|    17|      16|     4|     14.0|\n",
      "|    18|       4|    21|     25.7|\n",
      "+------+--------+------+---------+\n",
      "\n"
     ]
    }
   ],
   "source": [
    "# Immette i tratti autostradali\n",
    "tratti = [\n",
    "    (27, 9, 8.48),\n",
    "    (9, 26, 17.42),\n",
    "    (26, 10, 6.0),\n",
    "    (10, 18, 12.3),\n",
    "    (18, 23, 14.0),\n",
    "    (23, 15, 17.6),\n",
    "    (15, 5, 7.7),\n",
    "    (5, 8, 10.9),\n",
    "    (8, 3, 6.9),\n",
    "    (3, 13, 9.8),\n",
    "    (22, 1, 10.6),\n",
    "    (1, 12, 10.9),\n",
    "    (12, 25, 7.7),\n",
    "    (25, 20, 17.7),\n",
    "    (20, 2, 13.8),\n",
    "    (2, 16, 14.1),\n",
    "    (16, 4, 14.0),\n",
    "    (4, 21, 25.7),\n",
    "]\n",
    "\n",
    "tratti_schema = StructType(\n",
    "    [\n",
    "        StructField(\"ingresso\", IntegerType()),\n",
    "        StructField(\"uscita\", IntegerType()),\n",
    "        StructField(\"lunghezza\", DoubleType())\n",
    "    ]\n",
    ")\n",
    "\n",
    "df_tratti = spark.createDataFrame(data=tratti, schema=tratti_schema).cache()\n",
    "df_tratti.show()"
   ]
  },
  {
   "cell_type": "code",
   "execution_count": 4,
   "metadata": {},
   "outputs": [
    {
     "name": "stdout",
     "output_type": "stream",
     "text": [
      "+-------+-----+------+-------------------+-------+------+--------+------+---------+\n",
      "|  targa|varco|corsia|          timestamp|nazione|tratto|ingresso|uscita|lunghezza|\n",
      "+-------+-----+------+-------------------+-------+------+--------+------+---------+\n",
      "| 515364|   25|   2.0|2022-11-05 00:00:00|      I|    13|      12|    25|      7.7|\n",
      "| 515364|   25|   2.0|2022-11-05 00:00:00|      I|    14|      25|    20|     17.7|\n",
      "| 199201|   27|   1.0|2022-11-05 00:00:01|      I|     1|      27|     9|     8.48|\n",
      "|3053187|    2|   1.0|2022-11-05 00:00:02|      H|    15|      20|     2|     13.8|\n",
      "|3053187|    2|   1.0|2022-11-05 00:00:02|      H|    16|       2|    16|     14.1|\n",
      "|4156088|    2|   1.0|2022-11-05 00:00:03|     RO|    15|      20|     2|     13.8|\n",
      "|4156088|    2|   1.0|2022-11-05 00:00:03|     RO|    16|       2|    16|     14.1|\n",
      "| 515364|   20|   2.0|2022-11-05 00:00:30|      I|    14|      25|    20|     17.7|\n",
      "| 515364|   20|   2.0|2022-11-05 00:00:30|      I|    15|      20|     2|     13.8|\n",
      "| 199201|    9|   1.0|2022-11-05 00:00:31|      I|     1|      27|     9|     8.48|\n",
      "| 199201|    9|   1.0|2022-11-05 00:00:31|      I|     2|       9|    26|    17.42|\n",
      "|3053187|   16|   1.0|2022-11-05 00:00:32|      H|    16|       2|    16|     14.1|\n",
      "|3053187|   16|   1.0|2022-11-05 00:00:32|      H|    17|      16|     4|     14.0|\n",
      "|4156088|   16|   1.0|2022-11-05 00:00:33|     RO|    16|       2|    16|     14.1|\n",
      "|4156088|   16|   1.0|2022-11-05 00:00:33|     RO|    17|      16|     4|     14.0|\n",
      "| 515364|    2|   2.0|2022-11-05 00:01:00|      I|    15|      20|     2|     13.8|\n",
      "| 515364|    2|   2.0|2022-11-05 00:01:00|      I|    16|       2|    16|     14.1|\n",
      "| 199201|   26|   1.0|2022-11-05 00:01:01|      I|     2|       9|    26|    17.42|\n",
      "| 199201|   26|   1.0|2022-11-05 00:01:01|      I|     3|      26|    10|      6.0|\n",
      "|3053187|    4|   1.0|2022-11-05 00:01:02|      H|    17|      16|     4|     14.0|\n",
      "+-------+-----+------+-------------------+-------+------+--------+------+---------+\n",
      "only showing top 20 rows\n",
      "\n"
     ]
    }
   ],
   "source": [
    "df_left = df.join(df_tratti, (df.varco == df_tratti.ingresso ) | (df.varco == df_tratti.uscita), 'left')\n",
    "df_left.show()"
   ]
  },
  {
   "cell_type": "code",
   "execution_count": 54,
   "metadata": {},
   "outputs": [
    {
     "name": "stdout",
     "output_type": "stream",
     "text": [
      "+-------+--------+------+-------------------+-------------------+------------+\n",
      "|  targa|ingresso|uscita|           partenza|             arrivo|avvistamenti|\n",
      "+-------+--------+------+-------------------+-------------------+------------+\n",
      "|3053187|      20|     2|2022-11-05 00:00:02|2022-11-05 00:00:02|           1|\n",
      "|3053187|      16|     4|2022-11-05 00:00:32|2022-11-05 00:01:02|           2|\n",
      "|4156088|       4|    21|2022-11-05 00:01:03|2022-11-05 00:01:33|           2|\n",
      "|4156088|       2|    16|2022-11-05 00:00:03|2022-11-05 00:00:33|           2|\n",
      "| 199201|      26|    10|2022-11-05 00:01:01|2022-11-05 00:01:31|           2|\n",
      "|4156088|      20|     2|2022-11-05 00:00:03|2022-11-05 00:00:03|           1|\n",
      "| 515364|      25|    20|2022-11-05 00:00:00|2022-11-05 00:00:30|           2|\n",
      "| 515364|      20|     2|2022-11-05 00:00:30|2022-11-05 00:01:00|           2|\n",
      "| 515364|       2|    16|2022-11-05 00:01:00|2022-11-05 00:01:30|           2|\n",
      "| 199201|       9|    26|2022-11-05 00:00:31|2022-11-05 00:01:01|           2|\n",
      "|4156088|      16|     4|2022-11-05 00:00:33|2022-11-05 00:01:03|           2|\n",
      "| 515364|      16|     4|2022-11-05 00:01:30|2022-11-05 00:01:30|           1|\n",
      "| 515364|      12|    25|2022-11-05 00:00:00|2022-11-05 00:00:00|           1|\n",
      "| 199201|      10|    18|2022-11-05 00:01:31|2022-11-05 00:01:31|           1|\n",
      "|3053187|       2|    16|2022-11-05 00:00:02|2022-11-05 00:00:32|           2|\n",
      "|3053187|       4|    21|2022-11-05 00:01:02|2022-11-05 00:01:32|           2|\n",
      "| 199201|      27|     9|2022-11-05 00:00:01|2022-11-05 00:00:31|           2|\n",
      "+-------+--------+------+-------------------+-------------------+------------+\n",
      "\n"
     ]
    }
   ],
   "source": [
    "df_aggregated = df_left.groupBy(['targa', 'ingresso', 'uscita']) \\\n",
    "    .agg(\n",
    "        first('timestamp').alias('partenza'), \n",
    "        last('timestamp').alias('arrivo'),\n",
    "        count('timestamp').alias('avvistamenti')\n",
    "    )\n",
    "df_aggregated.show()"
   ]
  },
  {
   "cell_type": "markdown",
   "metadata": {},
   "source": [
    "Dopo questa aggregazione si possono ramificare processi diversi, ad esempio per ottenere il numero di targhe per tratto si può raggruppare per tratto (ingresso, uscita) ed eseguire il ``count()``. \n",
    "\n",
    "Invece, per ottenere la velocità della targa, su un tratto si rifà il join con la tabella tratti per avere anche la distanza, e si crea una nuova colonna che calcola: ``lunghezza / (arrivo - partenza)``. Da qui, se si vuole l'ultimo tratto di una targa: \n",
    "1. raggruppa per targa\n",
    "2. ordina per timestamp\n",
    "3. aggrega per ultima riga, ``last()``\n",
    "\n",
    "Oppure si calcola la velocità media della targa:\n",
    "1. raggruppa per targa\n",
    "2. aggrega con ``avg()``\n",
    "\n",
    "In tutti i casi, bisogna prima filtrare via le righe con ``avvistamenti = 2``. Questo perché le righe con ``avvistamenti = 1`` rappresentano tutte quelle targhe che sono state avvistate solo ad un varco e non al successivo, perché magari sono uscite o il sensore non le ha rilevate correttamente."
   ]
  },
  {
   "cell_type": "markdown",
   "metadata": {},
   "source": [
    " ## Velocità ultimo avvistamento per targa"
   ]
  },
  {
   "cell_type": "code",
   "execution_count": 59,
   "metadata": {},
   "outputs": [
    {
     "name": "stderr",
     "output_type": "stream",
     "text": [
      "                                                                                \r"
     ]
    },
    {
     "name": "stdout",
     "output_type": "stream",
     "text": [
      "+-------+-------------------+--------+------+--------+\n",
      "|  targa|          timestamp|ingresso|uscita|velocità|\n",
      "+-------+-------------------+--------+------+--------+\n",
      "| 199201|2022-11-05 00:01:31|      26|    10|   720.0|\n",
      "|4156088|2022-11-05 00:01:33|       4|    21|  3084.0|\n",
      "|3053187|2022-11-05 00:01:32|       4|    21|  3084.0|\n",
      "| 515364|2022-11-05 00:01:30|       2|    16|  1692.0|\n",
      "+-------+-------------------+--------+------+--------+\n",
      "\n"
     ]
    }
   ],
   "source": [
    "df_speed = df_aggregated \\\n",
    "     .join(df_tratti, (df_aggregated.ingresso == df_tratti.ingresso ), 'left') \\\n",
    "     .filter(col('avvistamenti') == 2) \\\n",
    "     .orderBy('partenza') \\\n",
    "     .groupBy(df_aggregated.targa) \\\n",
    "     .agg(\n",
    "          last('arrivo').alias('arrivo'),\n",
    "          last('partenza').alias('partenza'),\n",
    "          last('lunghezza').alias('lunghezza'),\n",
    "          last(df_aggregated.ingresso).alias('ingresso'),\n",
    "          last(df_aggregated.uscita).alias('uscita')\n",
    "     ) \\\n",
    "     .withColumn('velocità', \\\n",
    "     ( (col('lunghezza') * 1000) / (unix_timestamp(col('arrivo')) - unix_timestamp(col('partenza')))) * 3.6) \\\n",
    "     .select('targa', col('arrivo').alias('timestamp'), 'ingresso', 'uscita', 'velocità')\n",
    "\n",
    "df_speed.show()"
   ]
  },
  {
   "cell_type": "markdown",
   "metadata": {},
   "source": [
    "## Velocità media per targa"
   ]
  },
  {
   "cell_type": "code",
   "execution_count": 46,
   "metadata": {},
   "outputs": [
    {
     "name": "stderr",
     "output_type": "stream",
     "text": [
      "                                                                                \r"
     ]
    },
    {
     "name": "stdout",
     "output_type": "stream",
     "text": [
      "+-------+--------+------+--------------+\n",
      "|  targa|ingresso|uscita|velocità_media|\n",
      "+-------+--------+------+--------------+\n",
      "| 199201|      26|    10|        1276.0|\n",
      "|4156088|       4|    21|        2152.0|\n",
      "|3053187|       4|    21|        2152.0|\n",
      "| 515364|       2|    16|        1824.0|\n",
      "+-------+--------+------+--------------+\n",
      "\n"
     ]
    }
   ],
   "source": [
    "df_average = df_aggregated \\\n",
    "    .join(df_tratti, (df_aggregated.ingresso == df_tratti.ingresso ), 'left') \\\n",
    "    .filter(col('avvistamenti') == 2) \\\n",
    "    .orderBy('partenza') \\\n",
    "    .withColumn('velocità', \\\n",
    "    ( (col('lunghezza') * 1000) / (unix_timestamp(col('arrivo')) - unix_timestamp(col('partenza')))) * 3.6) \\\n",
    "    .groupBy('targa') \\\n",
    "    .agg(\n",
    "        last(df_aggregated.ingresso).alias('ingresso'),\n",
    "        last(df_aggregated.uscita).alias('uscita'),\n",
    "        avg('velocità').alias('velocità_media')\n",
    "    ) \\\n",
    "    .select('targa', 'ingresso', 'uscita', 'velocità_media')\n",
    "\n",
    "df_average.show()"
   ]
  },
  {
   "cell_type": "markdown",
   "metadata": {},
   "source": [
    "## Conteggio targhe per tratto\n",
    "\n",
    "Ha bisogno di altre due aggregazioni: una per ottenere solo una targa (come in velocità puntutale) e l'altra raggruppando per tratto."
   ]
  },
  {
   "cell_type": "code",
   "execution_count": 64,
   "metadata": {},
   "outputs": [
    {
     "name": "stderr",
     "output_type": "stream",
     "text": [
      "                                                                                \r"
     ]
    },
    {
     "name": "stdout",
     "output_type": "stream",
     "text": [
      "+--------+------+---------+\n",
      "|ingresso|uscita|conteggio|\n",
      "+--------+------+---------+\n",
      "|       4|    21|        2|\n",
      "|      26|    10|        1|\n",
      "|       2|    16|        1|\n",
      "+--------+------+---------+\n",
      "\n"
     ]
    }
   ],
   "source": [
    "df_single = df_aggregated \\\n",
    "     .join(df_tratti, (df_aggregated.ingresso == df_tratti.ingresso ), 'left') \\\n",
    "     .filter(col('avvistamenti') == 2) \\\n",
    "     .orderBy('partenza') \\\n",
    "     .groupBy(df_aggregated.targa) \\\n",
    "     .agg(\n",
    "          last(df_aggregated.ingresso).alias('ingresso'),\n",
    "          last(df_aggregated.uscita).alias('uscita')\n",
    "     ) \n",
    "    \n",
    "\n",
    "df_count = df_single \\\n",
    "     .groupBy('ingresso', 'uscita') \\\n",
    "     .agg(count('targa').alias('conteggio')) \n",
    "\n",
    "df_count.show()"
   ]
  }
 ],
 "metadata": {
  "kernelspec": {
   "display_name": "Python 3.8.10 ('.venv': venv)",
   "language": "python",
   "name": "python3"
  },
  "language_info": {
   "codemirror_mode": {
    "name": "ipython",
    "version": 3
   },
   "file_extension": ".py",
   "mimetype": "text/x-python",
   "name": "python",
   "nbconvert_exporter": "python",
   "pygments_lexer": "ipython3",
   "version": "3.8.10"
  },
  "orig_nbformat": 4,
  "vscode": {
   "interpreter": {
    "hash": "d0e1a1bdb97d92e383e1a3ba754529f3599c56e77ed683ede381e9a94ea14e63"
   }
  }
 },
 "nbformat": 4,
 "nbformat_minor": 2
}
